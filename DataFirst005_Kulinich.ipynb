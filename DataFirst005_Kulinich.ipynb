{
 "cells": [
  {
   "cell_type": "markdown",
   "id": "202412f4",
   "metadata": {},
   "source": [
    "Цель данного блокнота, научиться предсказывать вероятность просрочки по выданным кредитам."
   ]
  },
  {
   "cell_type": "code",
   "execution_count": null,
   "id": "d62f28a5",
   "metadata": {},
   "outputs": [],
   "source": [
    "import pandas as pd\n",
    "df=pd.read_excel('Credits.xlsx', engine='openpyxl')"
   ]
  },
  {
   "cell_type": "code",
   "execution_count": null,
   "id": "e7fd2593",
   "metadata": {},
   "outputs": [],
   "source": [
    "df.sample(3, random_state=42)"
   ]
  },
  {
   "cell_type": "code",
   "execution_count": null,
   "id": "42c5bf6f",
   "metadata": {},
   "outputs": [],
   "source": [
    "df.shape"
   ]
  },
  {
   "cell_type": "code",
   "execution_count": null,
   "id": "d46982ce",
   "metadata": {},
   "outputs": [],
   "source": [
    "df['Одобрение кредита'].sum()"
   ]
  },
  {
   "cell_type": "code",
   "execution_count": null,
   "id": "3d8981c3",
   "metadata": {},
   "outputs": [],
   "source": [
    "df[df['Сумма выдачи'].notna()]['Сумма выдачи'].count()"
   ]
  },
  {
   "cell_type": "code",
   "execution_count": null,
   "id": "42b712ca",
   "metadata": {},
   "outputs": [],
   "source": [
    "df[df['Дата Выдачи'].notna()]['Тип кредита'].value_counts()"
   ]
  },
  {
   "cell_type": "code",
   "execution_count": null,
   "id": "d77680f5",
   "metadata": {},
   "outputs": [],
   "source": [
    "df[df['Дата Выдачи'].notna()]['Сумма выдачи'].count()"
   ]
  },
  {
   "cell_type": "markdown",
   "id": "754650d3",
   "metadata": {},
   "source": [
    "из 46551 заявок было одобрено 17266, но выдано (!) 18224 кредита. Вопрос к качеству данных. Будем ориентироваться на выдачу кредита, как факт одобрения."
   ]
  },
  {
   "cell_type": "code",
   "execution_count": null,
   "id": "ee4b861d",
   "metadata": {},
   "outputs": [],
   "source": [
    "df[(df['Дней просрочки'].notna()) & (df['Дней просрочки']!=0)]['Сумма выдачи'].count()"
   ]
  },
  {
   "cell_type": "markdown",
   "id": "c390f254",
   "metadata": {},
   "source": [
    "По всем выданным кредитам было допущено 808 фактов просрочки.\n",
    "\n",
    "Оставим набор данных только с выданными кредитами определенного типа."
   ]
  },
  {
   "cell_type": "code",
   "execution_count": null,
   "id": "a95b75a4",
   "metadata": {},
   "outputs": [],
   "source": [
    "df=df[(df['Сумма выдачи'].notna()) & (df['Тип кредита']==\"Потреб\")]\n",
    "df.shape"
   ]
  },
  {
   "cell_type": "markdown",
   "id": "6093222b",
   "metadata": {},
   "source": [
    "# Удалим выбросы и заполним пропуски\n"
   ]
  },
  {
   "cell_type": "code",
   "execution_count": null,
   "id": "3da61d7e",
   "metadata": {},
   "outputs": [],
   "source": [
    "df.info()"
   ]
  },
  {
   "cell_type": "code",
   "execution_count": null,
   "id": "305a35e6",
   "metadata": {},
   "outputs": [],
   "source": [
    "df[df['Среднемесячный подтвержденный доход'].isna()]"
   ]
  },
  {
   "cell_type": "code",
   "execution_count": null,
   "id": "cfeeda7b",
   "metadata": {},
   "outputs": [],
   "source": [
    "# удалим пропуск с доходом\n",
    "df=df[df['Среднемесячный подтвержденный доход'].notna()]"
   ]
  },
  {
   "cell_type": "code",
   "execution_count": null,
   "id": "0b217396",
   "metadata": {},
   "outputs": [],
   "source": [
    "df['Запрошенный срок кредита'].hist()"
   ]
  },
  {
   "cell_type": "code",
   "execution_count": null,
   "id": "2dc4749d",
   "metadata": {},
   "outputs": [],
   "source": [
    "df[['Среднемесячный подтвержденный доход',\n",
    "    'Среднемесячный дополнительный доход', 'Среднемесячные расходы',\n",
    "       'Среднемесячный доход семьи', 'Сумма выдачи']].hist(\n",
    "    figsize=(10,10), bins=50);"
   ]
  },
  {
   "cell_type": "code",
   "execution_count": null,
   "id": "a0848413",
   "metadata": {},
   "outputs": [],
   "source": [
    "df[['Среднемесячный подтвержденный доход', \n",
    "    'Среднемесячный дополнительный доход', 'Среднемесячные расходы',\n",
    "       'Среднемесячный доход семьи', 'Сумма выдачи']].describe()"
   ]
  },
  {
   "cell_type": "code",
   "execution_count": null,
   "id": "8c930d66",
   "metadata": {},
   "outputs": [],
   "source": [
    "df[df['Среднемесячный подтвержденный доход']>500000]"
   ]
  },
  {
   "cell_type": "code",
   "execution_count": null,
   "id": "8e6be201",
   "metadata": {},
   "outputs": [],
   "source": [
    "df[df['Среднемесячный доход семьи']>700000]"
   ]
  },
  {
   "cell_type": "code",
   "execution_count": null,
   "id": "6fc82fcf",
   "metadata": {},
   "outputs": [],
   "source": [
    "df[df['Сумма выдачи']>1000000]"
   ]
  },
  {
   "cell_type": "code",
   "execution_count": null,
   "id": "fc27d4e2",
   "metadata": {},
   "outputs": [],
   "source": [
    "df=df[df['Среднемесячный подтвержденный доход']<500000]\n",
    "df=df[df['Среднемесячный доход семьи']<700000]\n",
    "df=df[df['Сумма выдачи']<1000000]\n",
    "df.shape"
   ]
  },
  {
   "cell_type": "markdown",
   "id": "da8232ec",
   "metadata": {},
   "source": [
    "# Закодируем и заместим пропуски"
   ]
  },
  {
   "cell_type": "code",
   "execution_count": null,
   "id": "e9a2722b",
   "metadata": {},
   "outputs": [],
   "source": [
    "from datetime import datetime\n",
    "\n",
    "df['Дата рождения']=df['Дата рождения'].apply(lambda x: datetime.strptime(x, '%d.%m.%Y'))\n",
    "df['Возраст']=df['Дата рождения'].apply(lambda x: ((datetime.now()-x).days)/365)"
   ]
  },
  {
   "cell_type": "code",
   "execution_count": null,
   "id": "c75ef073",
   "metadata": {},
   "outputs": [],
   "source": [
    "df.info()"
   ]
  },
  {
   "cell_type": "code",
   "execution_count": null,
   "id": "3adc325a",
   "metadata": {},
   "outputs": [],
   "source": [
    "#нет пропусков\n",
    "df.loc[df['Образование'].isna(),'Образование']='Среднее специальное'\n",
    "voc_educ={'Ниже среднего':0, 'Среднее':1, 'Среднее специальное':2, 'Незаконченное высшее':3, 'Высшее':4, 'Второе высшее':5,\n",
    "         'Ученая степень / МВА':6}\n",
    "df['Образование код']=df['Образование'].map(voc_educ)"
   ]
  },
  {
   "cell_type": "code",
   "execution_count": null,
   "id": "d098aab5",
   "metadata": {},
   "outputs": [],
   "source": [
    "voc_td={'Без сроkа (постоянная занятость)':7, 'Пенсионер':0, 'Не выбрано':1,\n",
    "       'Индивидуальный предприниматель':5, 'Срочный kонтраkт':6,\n",
    "       'Исполнитель по граждансkо-правовому договору':3,\n",
    "       'Частная праkтиkа (уточните)':4, 'Агент на kомиссионном договоре':2}\n",
    "df['Работа по трудовому договору код']=df['Работа по трудовому договору'].map(voc_td)"
   ]
  },
  {
   "cell_type": "code",
   "execution_count": null,
   "id": "e2f2190e",
   "metadata": {},
   "outputs": [],
   "source": [
    "df.loc[df['Категория должности'].isna(), 'Категория должности']='не указан'\n",
    "voc_pos={'Рабочий':0, 'Военнослужащий':1, 'Служащий':2, 'Государственный гражданский служащий':3, 'Специалист':4, \n",
    "        'Высококвалифицированный специалист':5, 'Руководитель начального звена':6, \n",
    "         'Руководитель среднего звена':7, 'Руководитель высшего звена':8, \n",
    "         'Владелец предприятия/ген.Директор/Главный бухгалтер':9, 'Нотариус':10, 'Судья':11, 'не указан':-1}\n",
    "df['Категория должности код']=df['Категория должности'].map(voc_pos)"
   ]
  },
  {
   "cell_type": "code",
   "execution_count": null,
   "id": "5c63db1b",
   "metadata": {},
   "outputs": [],
   "source": [
    "df.loc[df['Вид деятельности компании'].isna(),'Вид деятельности компании']='не указан'\n",
    "voc_vd={}\n",
    "for i in df['Вид деятельности компании'].value_counts().index:\n",
    "    voc_vd[i]=df['Вид деятельности компании'].value_counts()[i]\n",
    "df['Вид деятельности компании код']=df['Вид деятельности компании'].map(voc_vd)"
   ]
  },
  {
   "cell_type": "code",
   "execution_count": null,
   "id": "2f438553",
   "metadata": {},
   "outputs": [],
   "source": [
    "df.loc[df['Количество сотрудников в компании']==datetime(2017, 11, 30, 0, 0), 'Количество сотрудников в компании']='11-30'\n",
    "df.loc[df['Количество сотрудников в компании'].isna(), 'Количество сотрудников в компании']='не указан'\n",
    "voc_qnt={'не указан':-1,'Затрудняюсь ответить':0, 'До 10':1, '11-30':11, '31-50':31, '51-100':51, 'Более 100':100}\n",
    "df['Количество сотрудников в компании код']=df['Количество сотрудников в компании'].map(voc_qnt)"
   ]
  },
  {
   "cell_type": "code",
   "execution_count": null,
   "id": "c8d243a2",
   "metadata": {},
   "outputs": [],
   "source": [
    "df.loc[df['Срок работы в организации'].isna(), 'Срок работы в организации']='не указан'\n",
    "voc_lt={'не указан':-1, 'более 20 лет':240, 'от 1 года до 3 лет':12, 'от 3 до 5 лет':36,\n",
    "       'от 5 до 10 лет':60, 'от 10 до 20 лет':120, 'от 6 до 12 мес':6,\n",
    "       'менее 6 мес':0}\n",
    "df['Срок работы в организации код']=df['Срок работы в организации'].map(voc_lt)"
   ]
  },
  {
   "cell_type": "code",
   "execution_count": null,
   "id": "8010d0cf",
   "metadata": {},
   "outputs": [],
   "source": [
    "df.loc[df['Количество рабочих мест за 3 года'].isna(), 'Количество рабочих мест за 3 года']=-1"
   ]
  },
  {
   "cell_type": "code",
   "execution_count": null,
   "id": "d2d7b130",
   "metadata": {},
   "outputs": [],
   "source": [
    "df.loc[df['Семейное положение'].isna(),'Семейное положение']='не указан'\n",
    "dict_ss={'не указан':-1, 'Холост/не замужем':0, 'Гражданский брак':1, 'Женат/ замужем':2, 'В разводе':3, 'Вдовец/ Вдова':4}\n",
    "df['Семейное положение код']=df['Семейное положение'].map(dict_ss)"
   ]
  },
  {
   "cell_type": "code",
   "execution_count": null,
   "id": "4c3758c0",
   "metadata": {},
   "outputs": [],
   "source": [
    "df.loc[df['Количесво членов семьи'].isna(),'Количесво членов семьи']=-1"
   ]
  },
  {
   "cell_type": "code",
   "execution_count": null,
   "id": "d2d53c1b",
   "metadata": {},
   "outputs": [],
   "source": [
    "df['Наличие детей'].value_counts()"
   ]
  },
  {
   "cell_type": "code",
   "execution_count": null,
   "id": "bba8dba7",
   "metadata": {},
   "outputs": [],
   "source": [
    "df.loc[df['Наличие детей'].isna(),'Наличие детей']='Нет'\n",
    "df['Наличие детей код']=df['Наличие детей'].apply(lambda x: 0 if x=='Нет' else 1)"
   ]
  },
  {
   "cell_type": "code",
   "execution_count": null,
   "id": "4960b6a6",
   "metadata": {},
   "outputs": [],
   "source": [
    "df.loc[df['Сумма просрочки'].isna(), 'Сумма просрочки']=0"
   ]
  },
  {
   "cell_type": "code",
   "execution_count": null,
   "id": "3945673f",
   "metadata": {},
   "outputs": [],
   "source": [
    "df['Просрочка']=df['Сумма просрочки'].apply(lambda x: 1 if x>0 else 0)"
   ]
  },
  {
   "cell_type": "code",
   "execution_count": null,
   "id": "4fcb0499",
   "metadata": {},
   "outputs": [],
   "source": [
    "df['Просрочка'].value_counts()"
   ]
  },
  {
   "cell_type": "markdown",
   "id": "1b4de546",
   "metadata": {},
   "source": [
    "# Обучение без учителя"
   ]
  },
  {
   "cell_type": "code",
   "execution_count": null,
   "id": "661de3c0",
   "metadata": {},
   "outputs": [],
   "source": [
    "import seaborn as sns\n",
    "import matplotlib.pyplot as plt"
   ]
  },
  {
   "cell_type": "code",
   "execution_count": null,
   "id": "0384431c",
   "metadata": {},
   "outputs": [],
   "source": [
    "df.columns"
   ]
  },
  {
   "cell_type": "code",
   "execution_count": null,
   "id": "9593793f",
   "metadata": {},
   "outputs": [],
   "source": [
    "df['Плечо']=df['Запрошенная сумма']/df['Среднемесячный доход семьи']"
   ]
  },
  {
   "cell_type": "code",
   "execution_count": null,
   "id": "93fd419f",
   "metadata": {},
   "outputs": [],
   "source": [
    "df['Плечо'].hist(figsize=(18,4), bins=50);"
   ]
  },
  {
   "cell_type": "code",
   "execution_count": null,
   "id": "3c9705ef",
   "metadata": {},
   "outputs": [],
   "source": [
    "df[df['Плечо']>1000]"
   ]
  },
  {
   "cell_type": "code",
   "execution_count": null,
   "id": "bc97b73a",
   "metadata": {},
   "outputs": [],
   "source": [
    "df=df[df['Плечо']<1000]"
   ]
  },
  {
   "cell_type": "code",
   "execution_count": null,
   "id": "11225bb6",
   "metadata": {},
   "outputs": [],
   "source": [
    "col=['Плечо','Просрочка', 'Сумма выдачи', 'Процентная ставка', 'Срок', 'Среднемесячный подтвержденный доход']\n",
    "sns.pairplot(df[col],height=3);"
   ]
  },
  {
   "cell_type": "code",
   "execution_count": null,
   "id": "a74a5077",
   "metadata": {},
   "outputs": [],
   "source": [
    "df[col].corr()"
   ]
  },
  {
   "cell_type": "code",
   "execution_count": null,
   "id": "98038c63",
   "metadata": {},
   "outputs": [],
   "source": [
    "corr = df.corr()\n",
    "plt.figure(figsize=(14, 14))\n",
    "sns.heatmap(corr[(corr >= 0.3) | (corr <= -0.3)],\n",
    "            cmap=\"RdBu_r\", vmax=1.0, vmin=-1.0, linewidths=0.1,\n",
    "            annot=True, annot_kws={\"size\": 8}, square=True);"
   ]
  },
  {
   "cell_type": "code",
   "execution_count": null,
   "id": "474f97fa",
   "metadata": {},
   "outputs": [],
   "source": [
    "plt.figure(figsize=(14,14))\n",
    "sns.clustermap(df.corr())"
   ]
  },
  {
   "cell_type": "code",
   "execution_count": null,
   "id": "0e93182e",
   "metadata": {},
   "outputs": [],
   "source": [
    "df.groupby(['Семейное положение', 'Просрочка'])['Просрочка'].count().unstack().plot(kind='bar')"
   ]
  },
  {
   "cell_type": "code",
   "execution_count": null,
   "id": "49a0be1a",
   "metadata": {},
   "outputs": [],
   "source": [
    "df.groupby([ 'Категория должности', 'Просрочка'])['Просрочка'].count().unstack().plot(kind='bar')"
   ]
  },
  {
   "cell_type": "markdown",
   "id": "d418d939",
   "metadata": {},
   "source": [
    "## Кластеризация"
   ]
  },
  {
   "cell_type": "code",
   "execution_count": null,
   "id": "945d9a5e",
   "metadata": {},
   "outputs": [],
   "source": [
    "df.columns"
   ]
  },
  {
   "cell_type": "code",
   "execution_count": null,
   "id": "fc925c1a",
   "metadata": {},
   "outputs": [],
   "source": [
    "col=['Просрочка', 'Возраст', 'Срок']"
   ]
  },
  {
   "cell_type": "code",
   "execution_count": null,
   "id": "9e7e9ee1",
   "metadata": {},
   "outputs": [],
   "source": [
    "df[col].info()"
   ]
  },
  {
   "cell_type": "code",
   "execution_count": null,
   "id": "90b08d8f",
   "metadata": {},
   "outputs": [],
   "source": [
    "import seaborn as sns\n",
    "import matplotlib.pyplot as plt\n",
    "import numpy as np\n",
    "from sklearn import preprocessing\n",
    "\n",
    "data = preprocessing.StandardScaler().fit_transform(df[col]) #обратите внимание - только выборка \n",
    "data"
   ]
  },
  {
   "cell_type": "code",
   "execution_count": null,
   "id": "c066d5c8",
   "metadata": {},
   "outputs": [],
   "source": [
    "from sklearn.cluster import KMeans\n",
    "\n",
    "#метод локтя\n",
    "sse = {}\n",
    "for k in range(1, 10):\n",
    "    kmeans = KMeans(n_clusters=k, max_iter=1000).fit(data)\n",
    "    sse[k] = kmeans.inertia_ # Inertia: Sum of distances of samples to their closest cluster center\n",
    "plt.figure()\n",
    "plt.plot(list(sse.keys()), list(sse.values()))\n",
    "plt.xlabel(\"Количество кластеров\")\n",
    "plt.ylabel(\"SSE\")\n",
    "plt.show()"
   ]
  },
  {
   "cell_type": "code",
   "execution_count": null,
   "id": "b8172cc1",
   "metadata": {},
   "outputs": [],
   "source": [
    "#метод силуэта\n",
    "from sklearn.metrics import silhouette_score\n",
    "from sklearn.cluster import KMeans\n",
    "\n",
    "for n_cluster in range(2, 10):\n",
    "    kmeans = KMeans(n_clusters=n_cluster).fit(data)\n",
    "    label = kmeans.labels_\n",
    "    sil_coeff = silhouette_score(data, label, metric='euclidean')\n",
    "    print(\"Для n_clusters={}, коэффициент силуэта {}\".format(n_cluster, sil_coeff))"
   ]
  },
  {
   "cell_type": "code",
   "execution_count": null,
   "id": "6d296226",
   "metadata": {},
   "outputs": [],
   "source": [
    "from sklearn.decomposition import PCA\n",
    "from sklearn.cluster import KMeans\n",
    "from mpl_toolkits.mplot3d import Axes3D\n",
    "\n",
    "kmeans = KMeans(n_clusters=5, init='k-means++', max_iter= 1000, n_init= 10, random_state= 3)\n",
    "\n",
    "y_kmeans = kmeans.fit_predict(data)"
   ]
  },
  {
   "cell_type": "code",
   "execution_count": null,
   "id": "68b42e5a",
   "metadata": {},
   "outputs": [],
   "source": [
    "fig = plt.figure(figsize=(20,10))\n",
    "ax = fig.add_subplot(111, projection='3d')\n",
    "ax.scatter(data[:,0], data[:,1], data[:,2], \n",
    "            c=y_kmeans, cmap='viridis',\n",
    "            edgecolor='k', s=40, alpha = 0.5)\n",
    "\n",
    "\n",
    "ax.set_title(\"Кластер\")\n",
    "ax.set_xlabel(col[0])\n",
    "ax.set_ylabel(col[1])\n",
    "ax.set_zlabel(col[2])\n",
    "ax.dist = 10\n",
    "\n",
    "ax.scatter(kmeans.cluster_centers_[:,0], kmeans.cluster_centers_[:,1], \n",
    "           kmeans.cluster_centers_[:,2], \n",
    "           s = 300, c = 'r', marker='*', label = 'Centroid')\n",
    "\n",
    "plt.autoscale(enable=True, axis='x', tight=True)    \n",
    "\n",
    "plt.show()"
   ]
  },
  {
   "cell_type": "code",
   "execution_count": null,
   "id": "dd66e77a",
   "metadata": {},
   "outputs": [],
   "source": [
    "plt.scatter(data[:, 2], data[:, 1], c = kmeans.labels_, s = 20, cmap = 'summer')\n",
    "centers = kmeans.cluster_centers_\n",
    "plt.scatter(centers[:, 2], centers[:, 1], c = 'blue', s = 100, alpha = 0.9);\n",
    "plt.show()"
   ]
  },
  {
   "cell_type": "code",
   "execution_count": null,
   "id": "7e43bb92",
   "metadata": {},
   "outputs": [],
   "source": [
    "df_result=df[col].copy()\n",
    "df_result['kmeans']=kmeans.labels_\n",
    "df_result.sample(10)"
   ]
  },
  {
   "cell_type": "code",
   "execution_count": null,
   "id": "6df99cc4",
   "metadata": {},
   "outputs": [],
   "source": [
    "df_analize=df_result.groupby('kmeans')[col].mean()\n",
    "df_analize['Count']=df_result.groupby('kmeans')['kmeans'].count()\n",
    "df_analize"
   ]
  },
  {
   "cell_type": "code",
   "execution_count": null,
   "id": "1f7f07c8",
   "metadata": {},
   "outputs": [],
   "source": [
    "df_analize[['Возраст', 'Срок', 'Просрочка']].plot.bar()"
   ]
  },
  {
   "cell_type": "code",
   "execution_count": null,
   "id": "f4faaa99",
   "metadata": {},
   "outputs": [],
   "source": [
    "import seaborn as sns\n",
    "import matplotlib.pyplot as plt\n",
    "\n",
    "x=col[2] #Изменяйте столбцы \n",
    "y=col[0]\n",
    "print(x,y)\n",
    "sns.lmplot( x=x, y=y, data=df_result, fit_reg=False, hue='kmeans', legend=False)\n",
    "plt.legend(loc='lower right')\n",
    "plt.show()"
   ]
  },
  {
   "cell_type": "code",
   "execution_count": null,
   "id": "4d5af026",
   "metadata": {},
   "outputs": [],
   "source": [
    "x=col[1] #Изменяйте столбцы \n",
    "y=col[2]\n",
    "g = sns.lmplot(x=x, y=y, hue=\"kmeans\", col=\"kmeans\",\n",
    "               data=df_result, height=6, aspect=.4, x_jitter=.1)"
   ]
  },
  {
   "cell_type": "code",
   "execution_count": null,
   "id": "80917f5f",
   "metadata": {},
   "outputs": [],
   "source": [
    "g = sns.lmplot(x=x, y=y, hue=\"kmeans\", col=\"kmeans\",\n",
    "               data=df_result, col_wrap=2, height=4)"
   ]
  },
  {
   "cell_type": "markdown",
   "id": "b7936deb",
   "metadata": {},
   "source": [
    "# Машинное обучение\n",
    "\n",
    "## отбор столбцов"
   ]
  },
  {
   "cell_type": "code",
   "execution_count": null,
   "id": "c267ceff",
   "metadata": {},
   "outputs": [],
   "source": [
    "df.info()"
   ]
  },
  {
   "cell_type": "code",
   "execution_count": null,
   "id": "8e5c8be5",
   "metadata": {},
   "outputs": [],
   "source": [
    "df.columns"
   ]
  },
  {
   "cell_type": "code",
   "execution_count": null,
   "id": "fadd2d14",
   "metadata": {},
   "outputs": [],
   "source": [
    "df2=df[df['Просрочка']==1].copy()"
   ]
  },
  {
   "cell_type": "code",
   "execution_count": null,
   "id": "87f787fa",
   "metadata": {},
   "outputs": [],
   "source": [
    "df2=df2.append(df[df['Просрочка']==0].sample(740))"
   ]
  },
  {
   "cell_type": "code",
   "execution_count": null,
   "id": "008f5c31",
   "metadata": {},
   "outputs": [],
   "source": [
    "df2"
   ]
  },
  {
   "cell_type": "code",
   "execution_count": null,
   "id": "42631391",
   "metadata": {},
   "outputs": [],
   "source": [
    "#изменять только названия столбцов!!!\n",
    "col=['Среднемесячный подтвержденный доход',\n",
    "       'Среднемесячный дополнительный доход', 'Среднемесячные расходы',\n",
    "       'Среднемесячный доход семьи',  'Запрошенный срок кредита',\n",
    "       'Запрошенная сумма', 'Возраст',\n",
    "       'Образование код', 'Работа по трудовому договору код',\n",
    "       'Категория должности код', 'Вид деятельности компании код',\n",
    "       'Количество сотрудников в компании код',\n",
    "       'Срок работы в организации код', 'Семейное положение код',\n",
    "       'Наличие детей код', 'Плечо']\n",
    "Y=df2['Просрочка']"
   ]
  },
  {
   "cell_type": "code",
   "execution_count": null,
   "id": "1abcd984",
   "metadata": {},
   "outputs": [],
   "source": [
    "import seaborn as sns\n",
    "import matplotlib.pyplot as plt\n",
    "import numpy as np\n",
    "from sklearn import preprocessing\n",
    "\n",
    "X = preprocessing.StandardScaler().fit_transform(df2[col]) #обратите внимание - только выборка \n",
    "X"
   ]
  },
  {
   "cell_type": "code",
   "execution_count": null,
   "id": "8915181d",
   "metadata": {},
   "outputs": [],
   "source": [
    "from sklearn.model_selection import train_test_split\n",
    "#разделим набор на тренировочный и тестовый\n",
    "# X- объясняющие переменные \n",
    "# Y - то, что предсказываем\n",
    "# train - тренировочный набор, обучающий набор\n",
    "# test - спрятанные данные от модели, используем для тестирования \n",
    "X_train, X_test, y_train, y_test = train_test_split(X, Y, test_size=0.3, random_state=42)"
   ]
  },
  {
   "cell_type": "code",
   "execution_count": null,
   "id": "68e2d5ae",
   "metadata": {},
   "outputs": [],
   "source": [
    "from sklearn.tree import DecisionTreeClassifier #импортирует \n",
    "tree = DecisionTreeClassifier(max_depth=3, random_state=0)\n",
    "tree.fit(X_train, y_train)\n",
    "print(\"Правильность на обучающем наборе: {:.3f}\".format(tree.score(X_train, y_train)))\n",
    "print(\"Правильность на тестовом наборе: {:.3f}\".format(tree.score(X_test, y_test)))\n",
    "print('Важность признака')\n",
    "for i in zip(col, tree.feature_importances_):\n",
    "    print(\"{:.3f}\".format(i[1]),'<-',i[0])"
   ]
  },
  {
   "cell_type": "code",
   "execution_count": null,
   "id": "222756cf",
   "metadata": {},
   "outputs": [],
   "source": [
    "from sklearn.tree import export_graphviz\n",
    "import graphviz\n",
    "\n",
    "export_graphviz(tree, out_file=\"tree.dot\", class_names=[\"0\", \"1\"],\n",
    "feature_names=col, impurity=False, filled=True)\n",
    "\n",
    "with open(\"tree.dot\") as f:\n",
    "    dot_graph = f.read()\n",
    "graphviz.Source(dot_graph)"
   ]
  },
  {
   "cell_type": "code",
   "execution_count": null,
   "id": "ac7dba98",
   "metadata": {},
   "outputs": [],
   "source": [
    "import matplotlib.pyplot as plt\n",
    "from sklearn.ensemble import RandomForestClassifier\n",
    "\n",
    "#feature extraction\n",
    "model = RandomForestClassifier(n_estimators=10, random_state=42)\n",
    "model.fit(X_train, y_train.astype('int'))"
   ]
  },
  {
   "cell_type": "code",
   "execution_count": null,
   "id": "df317b43",
   "metadata": {},
   "outputs": [],
   "source": [
    "from sklearn.metrics import accuracy_score\n",
    "print(\"Точность обучающая: {:.3f}\".format(accuracy_score(y_train, model.predict(X_train))))\n",
    "print(\"Точность тестовая: {:.3f}\".format(accuracy_score(y_test, model.predict(X_test))))"
   ]
  },
  {
   "cell_type": "code",
   "execution_count": null,
   "id": "70c54008",
   "metadata": {},
   "outputs": [],
   "source": [
    "from sklearn.metrics import r2_score\n",
    "print('R2 обучающая', r2_score(model.predict(X_train), y_train))\n",
    "print('R2 тестовая', r2_score(model.predict(X_test), y_test))"
   ]
  },
  {
   "cell_type": "code",
   "execution_count": null,
   "id": "2514ebb0",
   "metadata": {},
   "outputs": [],
   "source": [
    "#матрица количества правильно и ошибочно угаданных классов\n",
    "from sklearn.metrics import confusion_matrix\n",
    "pd.DataFrame(confusion_matrix(y_test, model.predict(X_test)), columns=[0,1], index=[0,1])"
   ]
  },
  {
   "cell_type": "code",
   "execution_count": null,
   "id": "da9bb17d",
   "metadata": {},
   "outputs": [],
   "source": [
    "#так же матрица в процентах и более изящном виде\n",
    "matrix = confusion_matrix(y_test, model.predict(X_test))\n",
    "matrix = matrix.astype('float') / matrix.sum(axis=1)[:, np.newaxis]\n",
    "\n",
    "#Build the plot\n",
    "import seaborn as sns\n",
    "plt.figure(figsize=(7,5))\n",
    "sns.set(font_scale=1.4)\n",
    "sns.heatmap(matrix, annot=True, annot_kws={'size':10},\n",
    "            cmap=plt.cm.Greens, linewidths=0.2)\n",
    "\n",
    "#Add labels to the plot\n",
    "class_names = ['0', '1']                 # !!!!!! указать названия классов!\n",
    "tick_marks = np.arange(len(class_names))\n",
    "tick_marks2 = tick_marks + 0.5\n",
    "plt.xticks(tick_marks, class_names, rotation=25)\n",
    "plt.yticks(tick_marks2, class_names, rotation=0)\n",
    "plt.xlabel('Предсказанные классы')\n",
    "plt.ylabel('Истинные классы')\n",
    "plt.title('Confusion Matrix for Random Forest Model')\n",
    "plt.show()"
   ]
  },
  {
   "cell_type": "markdown",
   "id": "53a4cb63",
   "metadata": {},
   "source": [
    "Для оценки качества работы алгоритма на каждом из классов по отдельности введем метрики precision (точность) и recall (полнота).\n",
    "\n",
    "**Precision (правильные позитивные / на предсказанные как позитивные) = TP / TP + FP**\n",
    "\n",
    "**Sensitivity aka Recall (правильные позитивные / на все настоящие позитивные) = TP / TP + FN**\n",
    "\n",
    "Хотя точность и полнота являются очень важными метриками, сами по себе они не дадут вам полной картины. Одним из способов подытожить их является F-мера (F-measure), которая представляет собой гармоническое среднее точности и полноты:\n",
    "\n",
    "**F1=2 x (precision x recall)/(precision + recall)**\n",
    "\n",
    "Поскольку F1-мера учитывает точность и полноту, то для бинарной классификации несбалансированных данных она может быть лучшей метрикой, чем правильность."
   ]
  },
  {
   "cell_type": "code",
   "execution_count": null,
   "id": "fdbba80a",
   "metadata": {},
   "outputs": [],
   "source": [
    "from sklearn.metrics import classification_report\n",
    "print(classification_report(y_test, model.predict(X_test)))"
   ]
  },
  {
   "cell_type": "code",
   "execution_count": null,
   "id": "27fda876",
   "metadata": {},
   "outputs": [],
   "source": [
    "importances = model.feature_importances_\n",
    "indices = np.argsort(importances)[::-1]\n",
    "\n",
    "ar_f=[]\n",
    "for f, idx in enumerate(indices):\n",
    "    ar_f.append([round(importances[idx],4), col[idx]])\n",
    "print(\"Значимость признака:\")\n",
    "ar_f.sort(reverse=True)\n",
    "ar_f"
   ]
  },
  {
   "cell_type": "code",
   "execution_count": null,
   "id": "4cfaf200",
   "metadata": {},
   "outputs": [],
   "source": [
    "d_first = len(col)\n",
    "plt.figure(figsize=(8, 5))\n",
    "plt.title(\"Значимость признака\")\n",
    "plt.bar(range(d_first), importances[indices[:d_first]], align='center')\n",
    "plt.xticks(range(d_first), np.array(col)[indices[:d_first]], rotation=90)\n",
    "plt.xlim([-1, d_first]);"
   ]
  },
  {
   "cell_type": "code",
   "execution_count": null,
   "id": "d7e71687",
   "metadata": {},
   "outputs": [],
   "source": [
    "from sklearn.svm import SVC\n",
    "svc = SVC().fit(X_train, y_train)"
   ]
  },
  {
   "cell_type": "code",
   "execution_count": null,
   "id": "a2e29a48",
   "metadata": {},
   "outputs": [],
   "source": [
    "from sklearn.metrics import confusion_matrix\n",
    "pd.DataFrame(confusion_matrix(y_test, svc.predict(X_test)), columns=[0,1], index=[0,1])"
   ]
  },
  {
   "cell_type": "code",
   "execution_count": null,
   "id": "798c654c",
   "metadata": {},
   "outputs": [],
   "source": [
    "print(classification_report(y_test, svc.predict(X_test)))"
   ]
  },
  {
   "cell_type": "code",
   "execution_count": null,
   "id": "795c8110",
   "metadata": {},
   "outputs": [],
   "source": [
    "from sklearn.linear_model import LogisticRegression\n",
    "\n",
    "logistic = LogisticRegression(C=0.1)\n",
    "res=logistic.fit(X_train, y_train)"
   ]
  },
  {
   "cell_type": "code",
   "execution_count": null,
   "id": "0e791ac1",
   "metadata": {},
   "outputs": [],
   "source": [
    "from sklearn.metrics import accuracy_score\n",
    "print(\"Accuracy: {:.3f}\".format(accuracy_score(y_test, logistic.predict(X_test))))\n",
    "print(\"Confusion matrix:\\n{}\".format(confusion_matrix(y_test, logistic.predict(X_test))))\n",
    "print(classification_report(y_test, logistic.predict(X_test)))"
   ]
  },
  {
   "cell_type": "code",
   "execution_count": null,
   "id": "636cb174",
   "metadata": {},
   "outputs": [],
   "source": [
    "from sklearn.neural_network import MLPClassifier\n",
    "mlp = MLPClassifier(solver='lbfgs', random_state=0, max_iter=1000, \n",
    "                    hidden_layer_sizes=[10, 10], \n",
    "                    activation = 'relu', early_stopping=True).fit(X_train, y_train)"
   ]
  },
  {
   "cell_type": "code",
   "execution_count": null,
   "id": "35d6e14b",
   "metadata": {},
   "outputs": [],
   "source": [
    "print(\"Accuracy: {:.3f}\".format(accuracy_score(y_test, mlp.predict(X_test))))\n",
    "print(\"Confusion matrix:\\n{}\".format(confusion_matrix(y_test, mlp.predict(X_test))))\n",
    "print(classification_report(y_test, mlp.predict(X_test)))"
   ]
  },
  {
   "cell_type": "code",
   "execution_count": null,
   "id": "d9c5f593",
   "metadata": {},
   "outputs": [],
   "source": [
    "from sklearn.model_selection import train_test_split\n",
    "from sklearn.linear_model import LogisticRegression\n",
    "from sklearn.discriminant_analysis import LinearDiscriminantAnalysis\n",
    "from sklearn.neighbors import KNeighborsClassifier\n",
    "from sklearn.tree import DecisionTreeClassifier\n",
    "from sklearn.naive_bayes import GaussianNB\n",
    "from sklearn.svm import LinearSVC\n",
    "from sklearn.svm import SVC\n",
    "from sklearn.ensemble import BaggingClassifier\n",
    "from sklearn.ensemble import RandomForestClassifier\n",
    "from sklearn.ensemble import ExtraTreesClassifier\n",
    "from sklearn.ensemble import AdaBoostClassifier\n",
    "from sklearn.ensemble import GradientBoostingClassifier\n",
    "from sklearn.model_selection import KFold\n",
    "from sklearn.model_selection import cross_val_score\n",
    "from sklearn.pipeline import Pipeline\n",
    "from sklearn.preprocessing import StandardScaler\n",
    "from sklearn.preprocessing import MinMaxScaler\n",
    "from sklearn.preprocessing import Normalizer\n",
    "from matplotlib import pyplot\n",
    "from sklearn.metrics import f1_score\n",
    "\n",
    "#Настройка параметров оценивания алгоритма\n",
    "seed = 7\n",
    "num_folds = 10\n",
    "n_estimators = 100\n",
    "scoring = 'accuracy'\n",
    "\n",
    "models = []\n",
    "models.append(('LR', LogisticRegression()))\n",
    "models.append(('LDA', LinearDiscriminantAnalysis()))\n",
    "models.append(('KNN', KNeighborsClassifier()))\n",
    "models.append(('CART', DecisionTreeClassifier()))\n",
    "models.append(('NB', GaussianNB()))\n",
    "models.append(('LSVC', LinearSVC()))\n",
    "models.append(('SVC', SVC()))\n",
    "models.append(('BG', BaggingClassifier(n_estimators=n_estimators)))\n",
    "models.append(('RF', RandomForestClassifier(n_estimators=n_estimators)))\n",
    "models.append(('ET', ExtraTreesClassifier(n_estimators=n_estimators)))\n",
    "models.append(('AB', AdaBoostClassifier(n_estimators=n_estimators, algorithm='SAMME')))\n",
    "models.append(('GB', GradientBoostingClassifier(n_estimators=n_estimators)))\n",
    "\n",
    "#Оценивание эффективности выполнения каждого алгоритма\n",
    "scores = []\n",
    "names = []\n",
    "results = []\n",
    "predictions = []\n",
    "msg_row = []\n",
    "for name, model in models:\n",
    "    kfold = KFold(n_splits=num_folds, random_state=seed, shuffle=True)\n",
    "    cv_results = cross_val_score(model, X_train, y_train, cv=kfold, scoring=scoring)\n",
    "    names.append(name)\n",
    "    results.append(cv_results)\n",
    "    m_fit = model.fit(X_train, y_train)\n",
    "    m_predict = model.predict(X_test)\n",
    "    predictions.append(m_predict)\n",
    "    m_score = model.score(X_test, y_test)\n",
    "    scores.append(m_score)\n",
    "    f1=f1_score(y_test, model.predict(X_test))\n",
    "    msg = \"%s: train = %.3f (%.3f) / test = %.3f / f1=%.3f\" % (name, cv_results.mean(), cv_results.std(), m_score, f1)\n",
    "    msg_row.append(msg)\n",
    "    print(msg)\n",
    "    \n",
    "#Диаграмма размаха («ящик с усами»)\n",
    "fig = pyplot.figure()\n",
    "fig.suptitle('Сравнение результатов выполнения алгоритмов')\n",
    "ax = fig.add_subplot(111)\n",
    "red_square = dict(markerfacecolor='r', marker='s')\n",
    "pyplot.boxplot(results, flierprops=red_square)\n",
    "ax.set_xticklabels(names, rotation=45)\n",
    "pyplot.show()"
   ]
  },
  {
   "cell_type": "code",
   "execution_count": null,
   "id": "69fd8787",
   "metadata": {},
   "outputs": [],
   "source": []
  }
 ],
 "metadata": {
  "kernelspec": {
   "display_name": "Python 3",
   "language": "python",
   "name": "python3"
  },
  "language_info": {
   "codemirror_mode": {
    "name": "ipython",
    "version": 3
   },
   "file_extension": ".py",
   "mimetype": "text/x-python",
   "name": "python",
   "nbconvert_exporter": "python",
   "pygments_lexer": "ipython3",
   "version": "3.8.5"
  }
 },
 "nbformat": 4,
 "nbformat_minor": 5
}
